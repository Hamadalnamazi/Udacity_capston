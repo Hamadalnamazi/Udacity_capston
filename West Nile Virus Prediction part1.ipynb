{
 "cells": [
  {
   "cell_type": "markdown",
   "metadata": {},
   "source": [
    "## Data Description\n",
    "In this competition, you will be analyzing weather data and GIS data and predicting whether or not West Nile virus is present, for a given time, location, and species. \n",
    "\n",
    "Every year from late-May to early-October, public health workers in Chicago setup mosquito traps scattered across the city. Every week from Monday through Wednesday, these traps collect mosquitos, and the mosquitos are tested for the presence of West Nile virus before the end of the week. The test results include the number of mosquitos, the mosquitos species, and whether or not West Nile virus is present in the cohort. \n"
   ]
  },
  {
   "cell_type": "markdown",
   "metadata": {},
   "source": [
    "## Main dataset\n",
    "\n",
    "These test results are organized in such a way that when the number of mosquitos exceed 50, they are split into another record (another row in the dataset), such that the number of mosquitos are capped at 50. \n",
    "\n",
    "The location of the traps are described by the block number and street name. For your convenience, we have mapped these attributes into Longitude and Latitude in the dataset. Please note that these are derived locations. For example, Block=79, and Street= \"W FOSTER AVE\" gives us an approximate address of \"7900 W FOSTER AVE, Chicago, IL\", which translates to (41.974089,-87.824812) on the map.\n",
    "\n",
    "Some traps are \"satellite traps\". These are traps that are set up near (usually within 6 blocks) an established trap to enhance surveillance efforts. Satellite traps are postfixed with letters. For example, T220A is a satellite trap to T220. \n",
    "\n",
    "Please note that not all the locations are tested at all times. Also, records exist only when a particular species of mosquitos is found at a certain trap at a certain time. In the test set, we ask you for all combinations/permutations of possible predictions and are only scoring the observed ones."
   ]
  },
  {
   "cell_type": "markdown",
   "metadata": {},
   "source": [
    "## File descriptions\n",
    "train.csv, test.csv - the training and test set of the main dataset. The training set consists of data from 2007, 2009, 2011, and 2013, while in the test set you are requested to predict the test results for 2008, 2010, 2012, and 2014.\n",
    "<p>Id: the id of the record</p>\n",
    "<p>Date: date that the WNV test is performed</p>\n",
    "<p>Address: approximate address of the location of trap. This is used to send to the GeoCoder. </p>\n",
    "<p>Species: the species of mosquitos</p>\n",
    "<p>Block: block number of address</p>\n",
    "<p>Street: street name</p>\n",
    "<p>Trap: Id of the trap</p>\n",
    "<p>AddressNumberAndStreet: approximate address returned from GeoCoder</p>\n",
    "<p>Latitude, Longitude: Latitude and Longitude returned from GeoCoder</p>\n",
    "<p>AddressAccuracy: accuracy returned from GeoCoder</p>\n",
    "<p>NumMosquitos: number of mosquitoes caught in this trap</p>\n",
    "<p>WnvPresent: whether West Nile Virus was present in these mosquitos. 1 means WNV is present, and 0 means not present. </p>\n"
   ]
  },
  {
   "cell_type": "code",
   "execution_count": 1,
   "metadata": {},
   "outputs": [
    {
     "name": "stdout",
     "output_type": "stream",
     "text": [
      "         Date                                            Address  \\\n",
      "0  2007-05-29  4100 North Oak Park Avenue, Chicago, IL 60634,...   \n",
      "1  2007-05-29  4100 North Oak Park Avenue, Chicago, IL 60634,...   \n",
      "2  2007-05-29  6200 North Mandell Avenue, Chicago, IL 60646, USA   \n",
      "3  2007-05-29    7900 West Foster Avenue, Chicago, IL 60656, USA   \n",
      "4  2007-05-29    7900 West Foster Avenue, Chicago, IL 60656, USA   \n",
      "\n",
      "                  Species  Block           Street  Trap  \\\n",
      "0  CULEX PIPIENS/RESTUANS     41   N OAK PARK AVE  T002   \n",
      "1          CULEX RESTUANS     41   N OAK PARK AVE  T002   \n",
      "2          CULEX RESTUANS     62    N MANDELL AVE  T007   \n",
      "3  CULEX PIPIENS/RESTUANS     79     W FOSTER AVE  T015   \n",
      "4          CULEX RESTUANS     79     W FOSTER AVE  T015   \n",
      "\n",
      "              AddressNumberAndStreet   Latitude  Longitude  AddressAccuracy  \\\n",
      "0  4100  N OAK PARK AVE, Chicago, IL  41.954690 -87.800991                9   \n",
      "1  4100  N OAK PARK AVE, Chicago, IL  41.954690 -87.800991                9   \n",
      "2   6200  N MANDELL AVE, Chicago, IL  41.994991 -87.769279                9   \n",
      "3    7900  W FOSTER AVE, Chicago, IL  41.974089 -87.824812                8   \n",
      "4    7900  W FOSTER AVE, Chicago, IL  41.974089 -87.824812                8   \n",
      "\n",
      "   NumMosquitos  WnvPresent  \n",
      "0             1           0  \n",
      "1             1           0  \n",
      "2             1           0  \n",
      "3             1           0  \n",
      "4             4           0  \n",
      "**************************************************\n",
      "(10506, 12)\n",
      "**************************************************\n",
      "              Block      Latitude     Longitude  AddressAccuracy  \\\n",
      "count  10506.000000  10506.000000  10506.000000     10506.000000   \n",
      "mean      35.687797     41.841139    -87.699908         7.819532   \n",
      "std       24.339468      0.112742      0.096514         1.452921   \n",
      "min       10.000000     41.644612    -87.930995         3.000000   \n",
      "25%       12.000000     41.732984    -87.760070         8.000000   \n",
      "50%       33.000000     41.846283    -87.694991         8.000000   \n",
      "75%       52.000000     41.954690    -87.627796         9.000000   \n",
      "max       98.000000     42.017430    -87.531635         9.000000   \n",
      "\n",
      "       NumMosquitos    WnvPresent  \n",
      "count  10506.000000  10506.000000  \n",
      "mean      12.853512      0.052446  \n",
      "std       16.133816      0.222936  \n",
      "min        1.000000      0.000000  \n",
      "25%        2.000000      0.000000  \n",
      "50%        5.000000      0.000000  \n",
      "75%       17.000000      0.000000  \n",
      "max       50.000000      1.000000  \n",
      "**************************************************\n",
      "<class 'pandas.core.frame.DataFrame'>\n",
      "RangeIndex: 10506 entries, 0 to 10505\n",
      "Data columns (total 12 columns):\n",
      "Date                      10506 non-null object\n",
      "Address                   10506 non-null object\n",
      "Species                   10506 non-null object\n",
      "Block                     10506 non-null int64\n",
      "Street                    10506 non-null object\n",
      "Trap                      10506 non-null object\n",
      "AddressNumberAndStreet    10506 non-null object\n",
      "Latitude                  10506 non-null float64\n",
      "Longitude                 10506 non-null float64\n",
      "AddressAccuracy           10506 non-null int64\n",
      "NumMosquitos              10506 non-null int64\n",
      "WnvPresent                10506 non-null int64\n",
      "dtypes: float64(2), int64(4), object(6)\n",
      "memory usage: 985.0+ KB\n",
      "None\n",
      "**************************************************\n",
      "0\n"
     ]
    }
   ],
   "source": [
    "import pandas as pd\n",
    "train = pd.read_csv(\"train.csv\")\n",
    "print(train.head())\n",
    "print(\"*\"*50)\n",
    "print(train.shape)\n",
    "print(\"*\"*50)\n",
    "print(train.describe())\n",
    "print(\"*\"*50)\n",
    "print(train.info())\n",
    "print(\"*\"*50)\n",
    "print(train.isnull().sum().sum())"
   ]
  },
  {
   "cell_type": "code",
   "execution_count": 2,
   "metadata": {},
   "outputs": [
    {
     "name": "stdout",
     "output_type": "stream",
     "text": [
      "   Id        Date                                            Address  \\\n",
      "0   1  2008-06-11  4100 North Oak Park Avenue, Chicago, IL 60634,...   \n",
      "1   2  2008-06-11  4100 North Oak Park Avenue, Chicago, IL 60634,...   \n",
      "2   3  2008-06-11  4100 North Oak Park Avenue, Chicago, IL 60634,...   \n",
      "3   4  2008-06-11  4100 North Oak Park Avenue, Chicago, IL 60634,...   \n",
      "4   5  2008-06-11  4100 North Oak Park Avenue, Chicago, IL 60634,...   \n",
      "\n",
      "                  Species  Block           Street  Trap  \\\n",
      "0  CULEX PIPIENS/RESTUANS     41   N OAK PARK AVE  T002   \n",
      "1          CULEX RESTUANS     41   N OAK PARK AVE  T002   \n",
      "2           CULEX PIPIENS     41   N OAK PARK AVE  T002   \n",
      "3        CULEX SALINARIUS     41   N OAK PARK AVE  T002   \n",
      "4         CULEX TERRITANS     41   N OAK PARK AVE  T002   \n",
      "\n",
      "              AddressNumberAndStreet  Latitude  Longitude  AddressAccuracy  \n",
      "0  4100  N OAK PARK AVE, Chicago, IL  41.95469 -87.800991                9  \n",
      "1  4100  N OAK PARK AVE, Chicago, IL  41.95469 -87.800991                9  \n",
      "2  4100  N OAK PARK AVE, Chicago, IL  41.95469 -87.800991                9  \n",
      "3  4100  N OAK PARK AVE, Chicago, IL  41.95469 -87.800991                9  \n",
      "4  4100  N OAK PARK AVE, Chicago, IL  41.95469 -87.800991                9  \n",
      "**************************************************\n",
      "(116293, 11)\n",
      "**************************************************\n",
      "                  Id          Block       Latitude      Longitude  \\\n",
      "count  116293.000000  116293.000000  116293.000000  116293.000000   \n",
      "mean    58147.000000      41.131100      41.849389     -87.693658   \n",
      "std     33571.041765      24.864726       0.106593       0.080699   \n",
      "min         1.000000      10.000000      41.644612     -87.930995   \n",
      "25%     29074.000000      18.000000      41.753411     -87.750938   \n",
      "50%     58147.000000      39.000000      41.862292     -87.694991   \n",
      "75%     87220.000000      61.000000      41.951866     -87.648860   \n",
      "max    116293.000000      98.000000      42.017430     -87.531635   \n",
      "\n",
      "       AddressAccuracy  \n",
      "count    116293.000000  \n",
      "mean          7.954357  \n",
      "std           1.252733  \n",
      "min           3.000000  \n",
      "25%           8.000000  \n",
      "50%           8.000000  \n",
      "75%           9.000000  \n",
      "max           9.000000  \n",
      "**************************************************\n",
      "<class 'pandas.core.frame.DataFrame'>\n",
      "RangeIndex: 116293 entries, 0 to 116292\n",
      "Data columns (total 11 columns):\n",
      "Id                        116293 non-null int64\n",
      "Date                      116293 non-null object\n",
      "Address                   116293 non-null object\n",
      "Species                   116293 non-null object\n",
      "Block                     116293 non-null int64\n",
      "Street                    116293 non-null object\n",
      "Trap                      116293 non-null object\n",
      "AddressNumberAndStreet    116293 non-null object\n",
      "Latitude                  116293 non-null float64\n",
      "Longitude                 116293 non-null float64\n",
      "AddressAccuracy           116293 non-null int64\n",
      "dtypes: float64(2), int64(3), object(6)\n",
      "memory usage: 9.8+ MB\n",
      "None\n",
      "**************************************************\n",
      "0\n",
      "**************************************************\n",
      "Index(['Id', 'Date', 'Address', 'Species', 'Block', 'Street', 'Trap',\n",
      "       'AddressNumberAndStreet', 'Latitude', 'Longitude', 'AddressAccuracy'],\n",
      "      dtype='object')\n",
      "**************************************************\n",
      "Index(['Date', 'Address', 'Species', 'Block', 'Street', 'Trap',\n",
      "       'AddressNumberAndStreet', 'Latitude', 'Longitude', 'AddressAccuracy',\n",
      "       'NumMosquitos', 'WnvPresent'],\n",
      "      dtype='object')\n"
     ]
    }
   ],
   "source": [
    "# Train dataset has 12 col and main differant with test dataset are these col 'NumMosquitos', 'WnvPresent' .\n",
    "# Test dataset has 11 col and main differant with train dataset is this col Id .\n",
    "# Test dataset has 116,293 rows and 11 cols \n",
    "test = pd.read_csv(\"test.csv\")\n",
    "print(test.head())\n",
    "print(\"*\"*50)\n",
    "print(test.shape)\n",
    "print(\"*\"*50)\n",
    "print(test.describe())\n",
    "print(\"*\"*50)\n",
    "print(test.info())\n",
    "print(\"*\"*50)\n",
    "print(test.isnull().sum().sum())\n",
    "print(\"*\"*50)\n",
    "print(test.columns)\n",
    "print(\"*\"*50)\n",
    "print(train.columns)\n"
   ]
  },
  {
   "cell_type": "markdown",
   "metadata": {},
   "source": [
    "## Spray Data\n",
    "\n",
    "The City of Chicago also does spraying to kill mosquitos. You are given the GIS data for their spray efforts in 2011 and 2013. Spraying can reduce the number of mosquitos in the area, and therefore might eliminate the appearance of West Nile virus. \n",
    "\n"
   ]
  },
  {
   "cell_type": "markdown",
   "metadata": {},
   "source": [
    "## Spray.csv - GIS data of spraying efforts in 2011 and 2013\n",
    "Date, Time: the date and time of the spray\n",
    "Latitude, Longitude: the Latitude and Longitude of the spray"
   ]
  },
  {
   "cell_type": "code",
   "execution_count": 3,
   "metadata": {},
   "outputs": [
    {
     "name": "stdout",
     "output_type": "stream",
     "text": [
      "         Date        Time   Latitude  Longitude\n",
      "0  2011-08-29  6:56:58 PM  42.391623 -88.089163\n",
      "1  2011-08-29  6:57:08 PM  42.391348 -88.089163\n",
      "2  2011-08-29  6:57:18 PM  42.391022 -88.089157\n",
      "3  2011-08-29  6:57:28 PM  42.390637 -88.089158\n",
      "4  2011-08-29  6:57:38 PM  42.390410 -88.088858\n",
      "**************************************************\n",
      "(14835, 4)\n",
      "**************************************************\n",
      "           Latitude     Longitude\n",
      "count  14835.000000  14835.000000\n",
      "mean      41.904828    -87.736690\n",
      "std        0.104381      0.067292\n",
      "min       41.713925    -88.096468\n",
      "25%       41.785001    -87.794225\n",
      "50%       41.940075    -87.727853\n",
      "75%       41.980978    -87.694108\n",
      "max       42.395983    -87.586727\n",
      "**************************************************\n",
      "<class 'pandas.core.frame.DataFrame'>\n",
      "RangeIndex: 14835 entries, 0 to 14834\n",
      "Data columns (total 4 columns):\n",
      "Date         14835 non-null object\n",
      "Time         14251 non-null object\n",
      "Latitude     14835 non-null float64\n",
      "Longitude    14835 non-null float64\n",
      "dtypes: float64(2), object(2)\n",
      "memory usage: 463.7+ KB\n",
      "None\n",
      "**************************************************\n",
      "584\n"
     ]
    }
   ],
   "source": [
    "# Date and Time should be time series ?\n",
    "# we have null value in time columns\n",
    "spray = pd.read_csv(\"spray.csv\")\n",
    "print(spray.head())\n",
    "print(\"*\"*50)\n",
    "print(spray.shape)\n",
    "print(\"*\"*50)\n",
    "print(spray.describe())\n",
    "print(\"*\"*50)\n",
    "print(spray.info())\n",
    "print(\"*\"*50)\n",
    "print(spray.Time.isnull().sum().sum())\n"
   ]
  },
  {
   "cell_type": "markdown",
   "metadata": {},
   "source": [
    "## Weather Data\n",
    "\n",
    "It is believed that hot and dry conditions are more favorable for West Nile virus than cold and wet. We provide you with the dataset from NOAA of the weather conditions of 2007 to 2014, during the months of the tests. \n",
    "\n",
    "<p>Station 1: CHICAGO O'HARE INTERNATIONAL AIRPORT Lat: 41.995 Lon: -87.933 Elev: 662 ft. above sea level</p>\n",
    "Station 2: CHICAGO MIDWAY INTL ARPT Lat: 41.786 Lon: -87.752 Elev: 612 ft. above sea level"
   ]
  },
  {
   "cell_type": "code",
   "execution_count": 4,
   "metadata": {},
   "outputs": [
    {
     "name": "stdout",
     "output_type": "stream",
     "text": [
      "   Station        Date  Tmax  Tmin Tavg Depart  DewPoint WetBulb Heat Cool  \\\n",
      "0        1  2007-05-01    83    50   67     14        51      56    0    2   \n",
      "1        2  2007-05-01    84    52   68      M        51      57    0    3   \n",
      "2        1  2007-05-02    59    42   51     -3        42      47   14    0   \n",
      "3        2  2007-05-02    60    43   52      M        42      47   13    0   \n",
      "4        1  2007-05-03    66    46   56      2        40      48    9    0   \n",
      "\n",
      "     ...    CodeSum Depth Water1 SnowFall PrecipTotal StnPressure SeaLevel  \\\n",
      "0    ...                0      M      0.0        0.00       29.10    29.82   \n",
      "1    ...                M      M        M        0.00       29.18    29.82   \n",
      "2    ...         BR     0      M      0.0        0.00       29.38    30.09   \n",
      "3    ...      BR HZ     M      M        M        0.00       29.44    30.08   \n",
      "4    ...                0      M      0.0        0.00       29.39    30.12   \n",
      "\n",
      "  ResultSpeed ResultDir  AvgSpeed  \n",
      "0         1.7        27       9.2  \n",
      "1         2.7        25       9.6  \n",
      "2        13.0         4      13.4  \n",
      "3        13.3         2      13.4  \n",
      "4        11.7         7      11.9  \n",
      "\n",
      "[5 rows x 22 columns]\n",
      "**************************************************\n",
      "(2944, 22)\n",
      "**************************************************\n",
      "           Station         Tmax         Tmin     DewPoint  ResultSpeed  \\\n",
      "count  2944.000000  2944.000000  2944.000000  2944.000000  2944.000000   \n",
      "mean      1.500000    76.166101    57.810462    53.457880     6.960666   \n",
      "std       0.500085    11.461970    10.381939    10.675181     3.587527   \n",
      "min       1.000000    41.000000    29.000000    22.000000     0.100000   \n",
      "25%       1.000000    69.000000    50.000000    46.000000     4.300000   \n",
      "50%       1.500000    78.000000    59.000000    54.000000     6.400000   \n",
      "75%       2.000000    85.000000    66.000000    62.000000     9.200000   \n",
      "max       2.000000   104.000000    83.000000    75.000000    24.100000   \n",
      "\n",
      "         ResultDir  \n",
      "count  2944.000000  \n",
      "mean     17.494905  \n",
      "std      10.063609  \n",
      "min       1.000000  \n",
      "25%       7.000000  \n",
      "50%      19.000000  \n",
      "75%      25.000000  \n",
      "max      36.000000  \n",
      "**************************************************\n",
      "<class 'pandas.core.frame.DataFrame'>\n",
      "RangeIndex: 2944 entries, 0 to 2943\n",
      "Data columns (total 22 columns):\n",
      "Station        2944 non-null int64\n",
      "Date           2944 non-null object\n",
      "Tmax           2944 non-null int64\n",
      "Tmin           2944 non-null int64\n",
      "Tavg           2944 non-null object\n",
      "Depart         2944 non-null object\n",
      "DewPoint       2944 non-null int64\n",
      "WetBulb        2944 non-null object\n",
      "Heat           2944 non-null object\n",
      "Cool           2944 non-null object\n",
      "Sunrise        2944 non-null object\n",
      "Sunset         2944 non-null object\n",
      "CodeSum        2944 non-null object\n",
      "Depth          2944 non-null object\n",
      "Water1         2944 non-null object\n",
      "SnowFall       2944 non-null object\n",
      "PrecipTotal    2944 non-null object\n",
      "StnPressure    2944 non-null object\n",
      "SeaLevel       2944 non-null object\n",
      "ResultSpeed    2944 non-null float64\n",
      "ResultDir      2944 non-null int64\n",
      "AvgSpeed       2944 non-null object\n",
      "dtypes: float64(1), int64(5), object(16)\n",
      "memory usage: 506.1+ KB\n",
      "None\n",
      "**************************************************\n",
      "0\n",
      "**************************************************\n",
      "Index(['Station', 'Date', 'Tmax', 'Tmin', 'Tavg', 'Depart', 'DewPoint',\n",
      "       'WetBulb', 'Heat', 'Cool', 'Sunrise', 'Sunset', 'CodeSum', 'Depth',\n",
      "       'Water1', 'SnowFall', 'PrecipTotal', 'StnPressure', 'SeaLevel',\n",
      "       'ResultSpeed', 'ResultDir', 'AvgSpeed'],\n",
      "      dtype='object')\n"
     ]
    }
   ],
   "source": [
    "weather = pd.read_csv(\"weather.csv\")\n",
    "print(weather.head())\n",
    "print(\"*\"*50)\n",
    "print(weather.shape)\n",
    "print(\"*\"*50)\n",
    "print(weather.describe())\n",
    "print(\"*\"*50)\n",
    "print(weather.info())\n",
    "print(\"*\"*50)\n",
    "print(weather.isnull().sum().sum())\n",
    "print(\"*\"*50)\n",
    "print(weather.columns)"
   ]
  },
  {
   "cell_type": "markdown",
   "metadata": {},
   "source": [
    "# 1- EDA + Feature engineering"
   ]
  },
  {
   "cell_type": "code",
   "execution_count": 5,
   "metadata": {},
   "outputs": [],
   "source": [
    "#dates should be in date-time format for easy wrangling\n",
    "for i in [spray, weather, test, train]:\n",
    "    i.Date = pd.to_datetime(i.Date, format='%Y-%m-%d')"
   ]
  },
  {
   "cell_type": "code",
   "execution_count": 6,
   "metadata": {},
   "outputs": [],
   "source": [
    "#many variables are currently objects because they have things like \"M\" for missing. Must convert.\n",
    "to_numericize = ['Tavg', 'Depart', 'DewPoint', 'WetBulb', 'Heat', 'Cool', 'PrecipTotal',\n",
    "                 'StnPressure', 'SeaLevel', 'ResultSpeed', 'ResultDir', 'AvgSpeed']\n",
    "for col in to_numericize:\n",
    "    weather[col] = pd.to_numeric(weather[col], errors='coerce')"
   ]
  },
  {
   "cell_type": "code",
   "execution_count": 7,
   "metadata": {},
   "outputs": [],
   "source": [
    "#for sunrise times and sunset times to be interpreted properly, converting to hours\n",
    "import numpy as np\n",
    "def twentyfour_hour_to_float(HHMM):\n",
    "    if HHMM == '-':\n",
    "        return np.NaN\n",
    "    else:\n",
    "        hour = float(HHMM[:2])\n",
    "        minute = float(HHMM[2:])\n",
    "        return hour + minute/60\n",
    "weather.Sunrise = weather.Sunrise.apply(twentyfour_hour_to_float)\n",
    "weather.Sunset = weather.Sunset.apply(twentyfour_hour_to_float)\n",
    "\n",
    "#calculate hours in day\n",
    "weather['hours_in_day'] = weather.Sunset - weather.Sunrise"
   ]
  },
  {
   "cell_type": "code",
   "execution_count": 8,
   "metadata": {},
   "outputs": [],
   "source": [
    "#Depth, Water1, and SnowFall are all useless variables (all or almost all Nan).\n",
    "weather.drop(['Depth', 'Water1', 'SnowFall'], axis=1, inplace=True)"
   ]
  },
  {
   "cell_type": "code",
   "execution_count": 9,
   "metadata": {},
   "outputs": [],
   "source": [
    "#functions to combine data from Station 1 and Station 2, where applicable\n",
    "def avg_wind_direction(S1, S2):\n",
    "    if S1 == np.NaN:\n",
    "        avg = float(S2)\n",
    "    elif S2 == np.NaN:\n",
    "        avg = float(S1)\n",
    "    elif np.abs(S1-S2) > 18:\n",
    "        if S1<S2:\n",
    "            S1+=36\n",
    "        else:\n",
    "            S2+=36\n",
    "        avg = (S1+S2)/2.0\n",
    "    else:\n",
    "        avg = (S1+S2)/2.0\n",
    "    if avg >=36:\n",
    "        avg-=36\n",
    "    return avg\n",
    "def combine_conditions(S1, S2):\n",
    "    if S1 == \" \" and S2 == \" \":\n",
    "        return \"\"\n",
    "    elif S1 == \" \" and S2 != \" \":\n",
    "        return S2\n",
    "    elif S1 != \" \" and S2 == \" \":\n",
    "        return S1\n",
    "    else:\n",
    "        S1_list = S1.split(\" \")\n",
    "        S2_list = S2.split(\" \")\n",
    "        return list(set(S1_list + S2_list))\n",
    "def avg_col(S1, S2):\n",
    "    if S1 == np.NaN:\n",
    "        avg = float(S2)\n",
    "    elif S2 == np.NaN:\n",
    "        avg = float(S1)\n",
    "    else: \n",
    "        avg=(S1+S2)/2.0\n",
    "    return avg"
   ]
  },
  {
   "cell_type": "code",
   "execution_count": 10,
   "metadata": {},
   "outputs": [],
   "source": [
    "combined_weather = pd.DataFrame()\n",
    "\n",
    "s1 = weather[weather.Station==1]\n",
    "s2 = weather[weather.Station==1]\n",
    "\n",
    "#columns that only have data for Station 1 or the data are the same.\n",
    "for col in ['Date', 'Depart', 'Sunrise', 'Sunset', 'hours_in_day']:\n",
    "    combined_weather[col] = s1[col].values\n",
    "\n",
    "#application of averaging function\n",
    "for col in ['Tmax', 'Tmin', 'Tavg', 'DewPoint', 'WetBulb', 'Heat', 'Cool', 'StnPressure', 'SeaLevel', 'ResultSpeed', 'AvgSpeed']:\n",
    "    combined_weather[col] = [avg_col(a, b) for a, b in zip(s1[col].values, s2[col].values)]\n",
    "\n",
    "#application of unique functions\n",
    "combined_weather['ResultDir'] = [avg_wind_direction(a, b) for a, b in zip(s1.ResultDir.values, s2.ResultDir.values)]\n",
    "combined_weather['CodeSum'] = [combine_conditions(a, b) for a, b in zip(s1.CodeSum.values, s2.CodeSum.values)]\n",
    "\n",
    "#PrecipTotal for each station is too different -- keeping both\n",
    "combined_weather['PrecipTotal_station1'] = weather.PrecipTotal[weather.Station==1].values\n",
    "combined_weather['PrecipTotal_station2'] = weather.PrecipTotal[weather.Station==2].values"
   ]
  },
  {
   "cell_type": "code",
   "execution_count": 11,
   "metadata": {},
   "outputs": [],
   "source": [
    "#Unable to accurately impute for PrecipTotals and too much missing, so starting by dropping those columns\n",
    "combined_weather.drop(['PrecipTotal_station1', 'PrecipTotal_station2'], axis=1, inplace=True)\n"
   ]
  },
  {
   "cell_type": "markdown",
   "metadata": {},
   "source": [
    "## Imports"
   ]
  },
  {
   "cell_type": "code",
   "execution_count": 12,
   "metadata": {},
   "outputs": [],
   "source": [
    "import matplotlib.pyplot as plt\n",
    "%matplotlib inline\n",
    "import seaborn as sns\n",
    "from matplotlib import cm\n",
    "import re\n",
    "from sklearn import preprocessing, tree, ensemble, linear_model, metrics, model_selection, svm\n",
    "import xgboost"
   ]
  },
  {
   "cell_type": "code",
   "execution_count": 13,
   "metadata": {},
   "outputs": [
    {
     "name": "stderr",
     "output_type": "stream",
     "text": [
      "/Users/mac/anaconda3/lib/python3.6/site-packages/ipykernel_launcher.py:11: UserWarning: Boolean Series key will be reindexed to match DataFrame index.\n",
      "  # This is added back by InteractiveShellApp.init_path()\n",
      "/Users/mac/anaconda3/lib/python3.6/site-packages/ipykernel_launcher.py:13: SettingWithCopyWarning: \n",
      "A value is trying to be set on a copy of a slice from a DataFrame\n",
      "\n",
      "See the caveats in the documentation: http://pandas.pydata.org/pandas-docs/stable/indexing.html#indexing-view-versus-copy\n",
      "  del sys.path[0]\n"
     ]
    }
   ],
   "source": [
    "#impute missing data for :\n",
    "\n",
    "# WetBulb column\n",
    "X = combined_weather.dropna().drop(['Date', 'WetBulb', 'CodeSum'], axis=1)\n",
    "y = combined_weather.dropna()['WetBulb']\n",
    "\n",
    "dt_WetBulb = xgboost.XGBRegressor()\n",
    "dt_WetBulb.fit(X, y)\n",
    "\n",
    "subset = combined_weather.columns.drop('WetBulb')\n",
    "predicted_WetBulb = dt_WetBulb.predict(combined_weather.dropna(subset=subset).drop(['Date', 'WetBulb', 'CodeSum'], axis=1)[combined_weather.WetBulb.isnull()])\n",
    "\n",
    "combined_weather.WetBulb[combined_weather.WetBulb.isnull()] = predicted_WetBulb\n"
   ]
  },
  {
   "cell_type": "code",
   "execution_count": 14,
   "metadata": {},
   "outputs": [
    {
     "name": "stderr",
     "output_type": "stream",
     "text": [
      "/Users/mac/anaconda3/lib/python3.6/site-packages/ipykernel_launcher.py:10: SettingWithCopyWarning: \n",
      "A value is trying to be set on a copy of a slice from a DataFrame\n",
      "\n",
      "See the caveats in the documentation: http://pandas.pydata.org/pandas-docs/stable/indexing.html#indexing-view-versus-copy\n",
      "  # Remove the CWD from sys.path while we load stuff.\n"
     ]
    }
   ],
   "source": [
    "# StnPressure column\n",
    "X = combined_weather.dropna().drop(['Date', 'StnPressure', 'CodeSum'], axis=1)\n",
    "y = combined_weather.dropna(subset=subset)['StnPressure']\n",
    "\n",
    "xb_StnPressure = xgboost.XGBRegressor()\n",
    "xb_StnPressure.fit(X, y)\n",
    "\n",
    "predicted_StnPressure = xb_StnPressure.predict(combined_weather.drop(['Date', 'StnPressure', 'CodeSum'], axis=1)[combined_weather.StnPressure.isnull()])\n",
    "\n",
    "combined_weather.StnPressure[combined_weather.StnPressure.isnull()] = predicted_StnPressure"
   ]
  },
  {
   "cell_type": "markdown",
   "metadata": {},
   "source": [
    "## Train/Test Data - cleaning and wrangling"
   ]
  },
  {
   "cell_type": "code",
   "execution_count": 15,
   "metadata": {},
   "outputs": [],
   "source": [
    "#pull out zip codes from address\n",
    "def find_zip(address):\n",
    "    if re.search('(?<=IL )[0-9]*', address):\n",
    "        return re.search('(?<=IL )[0-9]*', address).group(0)\n",
    "train['zip_code'] = train.Address.apply(find_zip)"
   ]
  },
  {
   "cell_type": "code",
   "execution_count": 16,
   "metadata": {},
   "outputs": [],
   "source": [
    "# Address, Street, and AddressNumberAndStreet give essentially the same information as Trap, so they can be deleted\n",
    "train.drop(['Address', 'Street', 'AddressNumberAndStreet'], axis=1, inplace=True)\n"
   ]
  },
  {
   "cell_type": "code",
   "execution_count": 17,
   "metadata": {},
   "outputs": [
    {
     "name": "stderr",
     "output_type": "stream",
     "text": [
      "/Users/mac/anaconda3/lib/python3.6/site-packages/ipykernel_launcher.py:9: SettingWithCopyWarning: \n",
      "A value is trying to be set on a copy of a slice from a DataFrame\n",
      "\n",
      "See the caveats in the documentation: http://pandas.pydata.org/pandas-docs/stable/indexing.html#indexing-view-versus-copy\n",
      "  if __name__ == '__main__':\n"
     ]
    }
   ],
   "source": [
    "#impute missing zips\n",
    "X = train.dropna()[['Latitude', 'Longitude']]\n",
    "y = train.dropna()['zip_code']\n",
    "\n",
    "dtree_forzip = tree.DecisionTreeClassifier()\n",
    "dtree_forzip.fit(X, y)\n",
    "predicted_zip = dtree_forzip.predict(train[['Latitude', 'Longitude']][train.zip_code.isnull()])\n",
    "\n",
    "train.zip_code[train.zip_code.isnull()] = predicted_zip"
   ]
  },
  {
   "cell_type": "code",
   "execution_count": 18,
   "metadata": {},
   "outputs": [],
   "source": [
    "# create columns for day of year, month, day of week:\n",
    "train['day_of_year'] = train.Date.dt.dayofyear\n",
    "train['month'] = train.Date.dt.month\n",
    "train['day_of week'] = train.Date.dt.dayofweek\n",
    "train['year'] = train.Date.dt.year\n"
   ]
  },
  {
   "cell_type": "code",
   "execution_count": 19,
   "metadata": {},
   "outputs": [
    {
     "name": "stderr",
     "output_type": "stream",
     "text": [
      "/Users/mac/anaconda3/lib/python3.6/site-packages/ipykernel_launcher.py:7: SettingWithCopyWarning: \n",
      "A value is trying to be set on a copy of a slice from a DataFrame\n",
      "\n",
      "See the caveats in the documentation: http://pandas.pydata.org/pandas-docs/stable/indexing.html#indexing-view-versus-copy\n",
      "  import sys\n"
     ]
    }
   ],
   "source": [
    "#repeat all with test data\n",
    "test['zip_code'] = test.Address.apply(find_zip)\n",
    "test.drop(['Address', 'Street', 'AddressNumberAndStreet'], axis=1, inplace=True)\n",
    "\n",
    "predicted_zip = dtree_forzip.predict(test[['Latitude', 'Longitude']][test.zip_code.isnull()])\n",
    "\n",
    "test.zip_code[test.zip_code.isnull()] = predicted_zip\n",
    "test['day_of_year'] = test.Date.dt.dayofyear\n",
    "test['month'] = test.Date.dt.month\n",
    "test['day_of week'] = test.Date.dt.dayofweek\n",
    "test['year'] = test.Date.dt.year"
   ]
  },
  {
   "cell_type": "code",
   "execution_count": 20,
   "metadata": {},
   "outputs": [
    {
     "name": "stderr",
     "output_type": "stream",
     "text": [
      "/Users/mac/anaconda3/lib/python3.6/site-packages/ipykernel_launcher.py:2: FutureWarning: pd.groupby() is deprecated and will be removed; Please use the Series.groupby() or DataFrame.groupby() methods\n",
      "  \n"
     ]
    }
   ],
   "source": [
    "# putting various weights to the traps\n",
    "num_by_trap = pd.groupby(train[['Trap', 'NumMosquitos', 'WnvPresent']], 'Trap').agg('sum') \n",
    "num_by_trap['trap_percent_of_all_mosquitos'] = num_by_trap['NumMosquitos']/sum(num_by_trap.NumMosquitos)\n",
    "num_by_trap['trap_percent_with_wnv'] = num_by_trap.WnvPresent/num_by_trap.NumMosquitos\n",
    "num_by_trap.reset_index(inplace=True)\n",
    "\n",
    "map_mosq_weight = {t:v for t, v in zip(num_by_trap.Trap.values, num_by_trap['trap_percent_of_all_mosquitos'].values)}\n",
    "map_wnv_weight = {t:v for t, v in zip(num_by_trap.Trap.values, num_by_trap['trap_percent_with_wnv'].values)}\n",
    "\n",
    "map_wnv_weight2 = {}\n",
    "for trap in set(train.Trap):\n",
    "    map_wnv_weight2[trap] = sum(train.WnvPresent[train.Trap==trap]/sum(train.Trap==trap))\n",
    "map_wnv_weight2\n",
    "\n",
    "train['trap_percent_of_all_mosquitos'] = train.Trap.map(map_mosq_weight)\n",
    "train['trap_percent_with_wnv'] = train.Trap.map(map_wnv_weight)\n",
    "train['trap_percent_with_wnv2'] = train.Trap.map(map_wnv_weight2)"
   ]
  },
  {
   "cell_type": "code",
   "execution_count": 21,
   "metadata": {},
   "outputs": [],
   "source": [
    "# Repeat on test data\n",
    "test['trap_percent_of_all_mosquitos'] = test.Trap.map(map_mosq_weight).fillna(0)\n",
    "test['trap_percent_with_wnv'] = test.Trap.map(map_wnv_weight).fillna(0)\n",
    "test['trap_percent_with_wnv2'] = test.Trap.map(map_wnv_weight2).fillna(0)"
   ]
  },
  {
   "cell_type": "markdown",
   "metadata": {},
   "source": [
    "## Merge"
   ]
  },
  {
   "cell_type": "code",
   "execution_count": 22,
   "metadata": {},
   "outputs": [],
   "source": [
    "train_w = pd.merge(train, combined_weather, how='left', on='Date')\n",
    "test_w = pd.merge(test, combined_weather, how='left', on='Date')"
   ]
  },
  {
   "cell_type": "code",
   "execution_count": 25,
   "metadata": {},
   "outputs": [],
   "source": [
    "train_w.to_csv(\"clean_train.csv\")\n",
    "test_w.to_csv(\"clean_test.csv\")"
   ]
  }
 ],
 "metadata": {
  "kernelspec": {
   "display_name": "Python 3",
   "language": "python",
   "name": "python3"
  },
  "language_info": {
   "codemirror_mode": {
    "name": "ipython",
    "version": 3
   },
   "file_extension": ".py",
   "mimetype": "text/x-python",
   "name": "python",
   "nbconvert_exporter": "python",
   "pygments_lexer": "ipython3",
   "version": "3.6.5"
  }
 },
 "nbformat": 4,
 "nbformat_minor": 2
}
